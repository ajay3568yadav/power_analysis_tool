{
 "cells": [
  {
   "cell_type": "code",
   "execution_count": 1,
   "id": "a6190211",
   "metadata": {},
   "outputs": [],
   "source": [
    "import linecache as lc\n",
    "import re\n",
    "\n",
    "def extract_key(string_line):\n",
    "    li = string_line.split()\n",
    "    if len(li) >= 3:\n",
    "        li[1] = li[1].replace(\"(\", \"\")\n",
    "        li[1] = li[1].replace(\")\", \"\")\n",
    "    return li[1]\n",
    "\n",
    "def extract(string_line):\n",
    "    li = re.findall(r'\\b(?<!when\\s)\\w+\\b', string_line)\n",
    "    if \"when\" in li:\n",
    "        li.remove(\"when\")\n",
    "    return li\n",
    "\n",
    "pattern = \"cell (\"\n",
    "cell_map_AO = {}\n",
    "cell_map_INVBUF = {}\n",
    "cell_map_OA = {}\n",
    "cell_map_SIM = {}\n",
    "cell_map_SEQ = {}\n",
    "\n",
    "def cell_mapping(filename, mapname, portlinenumber):\n",
    "    line_num_x = 0\n",
    "    try:\n",
    "        with open(filename, \"r\") as f:\n",
    "            line = f.readline()\n",
    "            line_num_x += 1\n",
    "            while line:\n",
    "                if line.find(pattern) >= 0:\n",
    "                    mapname[extract_key(line.strip())] = extract(lc.getline(filename, line_num_x + portlinenumber).strip())\n",
    "                line = f.readline()\n",
    "                line_num_x += 1\n",
    "    except FileNotFoundError:\n",
    "        print(\"File not found.\")\n",
    "    except IOError:\n",
    "        print(\"Error reading the file.\")\n",
    "    print(mapname)"
   ]
  },
  {
   "cell_type": "code",
   "execution_count": 2,
   "id": "bdf44c5e",
   "metadata": {},
   "outputs": [
    {
     "name": "stdout",
     "output_type": "stream",
     "text": [
      "#########cell map for AO###########\n",
      "{'A2O1A1Ixp33_ASAP7_75t_L': ['A1', 'A2', 'B', 'C', 'Y'], 'A2O1A1O1Ixp25_ASAP7_75t_L': ['A1', 'A2', 'B', 'C', 'D', 'Y'], 'AO211x2_ASAP7_75t_L': ['A1', 'A2', 'B', 'C', 'Y'], 'AO21x1_ASAP7_75t_L': ['A1', 'A2', 'B', 'Y'], 'AO21x2_ASAP7_75t_L': ['A1', 'A2', 'B', 'Y'], 'AO221x1_ASAP7_75t_L': ['A1', 'A2', 'B1', 'B2', 'C', 'Y'], 'AO221x2_ASAP7_75t_L': ['A1', 'A2', 'B1', 'B2', 'C', 'Y'], 'AO222x2_ASAP7_75t_L': ['A1', 'A2', 'B1', 'B2', 'C1', 'C2', 'Y'], 'AO22x1_ASAP7_75t_L': ['A1', 'A2', 'B1', 'B2', 'Y'], 'AO22x2_ASAP7_75t_L': ['A1', 'A2', 'B1', 'B2', 'Y'], 'AO31x2_ASAP7_75t_L': ['A1', 'A2', 'A3', 'B', 'Y'], 'AO322x2_ASAP7_75t_L': ['A1', 'A2', 'A3', 'B1', 'B2', 'C1', 'C2', 'Y'], 'AO32x1_ASAP7_75t_L': ['A1', 'A2', 'A3', 'B1', 'B2', 'Y'], 'AO32x2_ASAP7_75t_L': ['A1', 'A2', 'A3', 'B1', 'B2', 'Y'], 'AO331x1_ASAP7_75t_L': ['A1', 'A2', 'A3', 'B1', 'B2', 'B3', 'C', 'Y'], 'AO331x2_ASAP7_75t_L': ['A1', 'A2', 'A3', 'B1', 'B2', 'B3', 'C', 'Y'], 'AO332x1_ASAP7_75t_L': ['A1', 'A2', 'A3', 'B1', 'B2', 'B3', 'C1', 'C2', 'Y'], 'AO332x2_ASAP7_75t_L': ['A1', 'A2', 'A3', 'B1', 'B2', 'B3', 'C1', 'C2', 'Y'], 'AO333x1_ASAP7_75t_L': ['A1', 'A2', 'A3', 'B1', 'B2', 'B3', 'C1', 'C2', 'C3', 'Y'], 'AO333x2_ASAP7_75t_L': ['A1', 'A2', 'A3', 'B1', 'B2', 'B3', 'C1', 'C2', 'C3', 'Y'], 'AO33x2_ASAP7_75t_L': ['A1', 'A2', 'A3', 'B1', 'B2', 'B3', 'Y'], 'AOI211x1_ASAP7_75t_L': ['A1', 'A2', 'B', 'C', 'Y'], 'AOI211xp5_ASAP7_75t_L': ['A1', 'A2', 'B', 'C', 'Y'], 'AOI21x1_ASAP7_75t_L': ['A1', 'A2', 'B', 'Y'], 'AOI21xp33_ASAP7_75t_L': ['A1', 'A2', 'B', 'Y'], 'AOI21xp5_ASAP7_75t_L': ['A1', 'A2', 'B', 'Y'], 'AOI221x1_ASAP7_75t_L': ['A1', 'A2', 'B1', 'B2', 'C', 'Y'], 'AOI221xp5_ASAP7_75t_L': ['A1', 'A2', 'B1', 'B2', 'C', 'Y'], 'AOI222xp33_ASAP7_75t_L': ['A1', 'A2', 'B1', 'B2', 'C1', 'C2', 'Y'], 'AOI22x1_ASAP7_75t_L': ['A1', 'A2', 'B1', 'B2', 'Y'], 'AOI22xp33_ASAP7_75t_L': ['A1', 'A2', 'B1', 'B2', 'Y'], 'AOI22xp5_ASAP7_75t_L': ['A1', 'A2', 'B1', 'B2', 'Y'], 'AOI311xp33_ASAP7_75t_L': ['A1', 'A2', 'A3', 'B', 'C', 'Y'], 'AOI31xp33_ASAP7_75t_L': ['A1', 'A2', 'A3', 'B', 'Y'], 'AOI31xp67_ASAP7_75t_L': ['A1', 'A2', 'A3', 'B', 'Y'], 'AOI321xp33_ASAP7_75t_L': ['A1', 'A2', 'A3', 'B1', 'B2', 'C', 'Y'], 'AOI322xp5_ASAP7_75t_L': ['A1', 'A2', 'A3', 'B1', 'B2', 'C1', 'C2', 'Y'], 'AOI32xp33_ASAP7_75t_L': ['A1', 'A2', 'A3', 'B1', 'B2', 'Y'], 'AOI331xp33_ASAP7_75t_L': ['A1', 'A2', 'A3', 'B1', 'B2', 'B3', 'C1', 'Y'], 'AOI332xp33_ASAP7_75t_L': ['A1', 'A2', 'A3', 'B1', 'B2', 'B3', 'C1', 'C2', 'Y'], 'AOI333xp33_ASAP7_75t_L': ['A1', 'A2', 'A3', 'B1', 'B2', 'B3', 'C1', 'C2', 'C3', 'Y'], 'AOI33xp33_ASAP7_75t_L': ['A1', 'A2', 'A3', 'B1', 'B2', 'B3', 'Y']}\n",
      "#########cell map for OA###########\n",
      "{'O2A1O1Ixp33_ASAP7_75t_L': ['A1', 'A2', 'B', 'C', 'Y'], 'O2A1O1Ixp5_ASAP7_75t_L': ['A1', 'A2', 'B', 'C', 'Y'], 'OA211x2_ASAP7_75t_L': ['A1', 'A2', 'B', 'C', 'Y'], 'OA21x2_ASAP7_75t_L': ['A1', 'A2', 'B', 'Y'], 'OA221x2_ASAP7_75t_L': ['A1', 'A2', 'B1', 'B2', 'C', 'Y'], 'OA222x2_ASAP7_75t_L': ['A1', 'A2', 'B1', 'B2', 'C1', 'C2', 'Y'], 'OA22x2_ASAP7_75t_L': ['A1', 'A2', 'B1', 'B2', 'Y'], 'OA31x2_ASAP7_75t_L': ['A1', 'A2', 'A3', 'B1', 'Y'], 'OA331x1_ASAP7_75t_L': ['A1', 'A2', 'A3', 'B1', 'B2', 'B3', 'C1', 'Y'], 'OA331x2_ASAP7_75t_L': ['A1', 'A2', 'A3', 'B1', 'B2', 'B3', 'C1', 'Y'], 'OA332x1_ASAP7_75t_L': ['A1', 'A2', 'A3', 'B1', 'B2', 'B3', 'C1', 'C2', 'Y'], 'OA332x2_ASAP7_75t_L': ['A1', 'A2', 'A3', 'B1', 'B2', 'B3', 'C1', 'C2', 'Y'], 'OA333x1_ASAP7_75t_L': ['A1', 'A2', 'A3', 'B1', 'B2', 'B3', 'C1', 'C2', 'C3', 'Y'], 'OA333x2_ASAP7_75t_L': ['A1', 'A2', 'A3', 'B1', 'B2', 'B3', 'C1', 'C2', 'C3', 'Y'], 'OA33x2_ASAP7_75t_L': ['A1', 'A2', 'A3', 'B1', 'B2', 'B3', 'Y'], 'OAI211xp5_ASAP7_75t_L': ['A1', 'A2', 'B', 'C', 'Y'], 'OAI21x1_ASAP7_75t_L': ['A1', 'A2', 'B', 'Y'], 'OAI21xp33_ASAP7_75t_L': ['A1', 'A2', 'B', 'Y'], 'OAI21xp5_ASAP7_75t_L': ['A1', 'A2', 'B', 'Y'], 'OAI221xp5_ASAP7_75t_L': ['A1', 'A2', 'B1', 'B2', 'C', 'Y'], 'OAI222xp33_ASAP7_75t_L': ['A1', 'A2', 'B1', 'B2', 'C1', 'C2', 'Y'], 'OAI22x1_ASAP7_75t_L': ['A1', 'A2', 'B1', 'B2', 'Y'], 'OAI22xp33_ASAP7_75t_L': ['A1', 'A2', 'B1', 'B2', 'Y'], 'OAI22xp5_ASAP7_75t_L': ['A1', 'A2', 'B1', 'B2', 'Y'], 'OAI311xp33_ASAP7_75t_L': ['A1', 'A2', 'A3', 'B1', 'C1', 'Y'], 'OAI31xp33_ASAP7_75t_L': ['A1', 'A2', 'A3', 'B', 'Y'], 'OAI31xp67_ASAP7_75t_L': ['A1', 'A2', 'A3', 'B', 'Y'], 'OAI321xp33_ASAP7_75t_L': ['A1', 'A2', 'A3', 'B1', 'B2', 'C', 'Y'], 'OAI322xp33_ASAP7_75t_L': ['A1', 'A2', 'A3', 'B1', 'B2', 'C1', 'C2', 'Y'], 'OAI32xp33_ASAP7_75t_L': ['A1', 'A2', 'A3', 'B1', 'B2', 'Y'], 'OAI331xp33_ASAP7_75t_L': ['A1', 'A2', 'A3', 'B1', 'B2', 'B3', 'C1', 'Y'], 'OAI332xp33_ASAP7_75t_L': ['A1', 'A2', 'A3', 'B1', 'B2', 'B3', 'C1', 'C2', 'Y'], 'OAI333xp33_ASAP7_75t_L': ['A1', 'A2', 'A3', 'B1', 'B2', 'B3', 'C1', 'C2', 'C3', 'Y'], 'OAI33xp33_ASAP7_75t_L': ['A1', 'A2', 'A3', 'B1', 'B2', 'B3', 'Y']}\n",
      "#########cell map for SIMPLE###########\n",
      "{'AND2x2_ASAP7_75t_L': ['A', 'B', 'Y'], 'AND2x4_ASAP7_75t_L': ['A', 'B', 'Y'], 'AND2x6_ASAP7_75t_L': ['A', 'B', 'Y'], 'AND3x1_ASAP7_75t_L': ['A', 'B', 'C', 'Y'], 'AND3x2_ASAP7_75t_L': ['A', 'B', 'C', 'Y'], 'AND3x4_ASAP7_75t_L': ['A', 'B', 'C', 'Y'], 'AND4x1_ASAP7_75t_L': ['A', 'B', 'C', 'D', 'Y'], 'AND4x2_ASAP7_75t_L': ['A', 'B', 'C', 'D', 'Y'], 'AND5x1_ASAP7_75t_L': ['A', 'B', 'C', 'D', 'E', 'Y'], 'AND5x2_ASAP7_75t_L': ['A', 'B', 'C', 'D', 'E', 'Y'], 'FAx1_ASAP7_75t_L': ['A', 'B', 'CI', 'CON', 'SN'], 'HAxp5_ASAP7_75t_L': ['A', 'B', 'CON', 'SN'], 'MAJIxp5_ASAP7_75t_L': ['A', 'B', 'C', 'Y'], 'MAJx2_ASAP7_75t_L': ['A', 'B', 'C', 'Y'], 'MAJx3_ASAP7_75t_L': ['A', 'B', 'C', 'Y'], 'NAND2x1_ASAP7_75t_L': ['A', 'B', 'Y'], 'NAND2x1p5_ASAP7_75t_L': ['A', 'B', 'Y'], 'NAND2x2_ASAP7_75t_L': ['A', 'B', 'Y'], 'NAND2xp33_ASAP7_75t_L': ['A', 'B', 'Y'], 'NAND2xp5_ASAP7_75t_L': ['A', 'B', 'Y'], 'NAND2xp67_ASAP7_75t_L': ['A', 'B', 'Y'], 'NAND3x1_ASAP7_75t_L': ['A', 'B', 'C', 'Y'], 'NAND3x2_ASAP7_75t_L': ['A', 'B', 'C', 'Y'], 'NAND3xp33_ASAP7_75t_L': ['A', 'B', 'C', 'Y'], 'NAND4xp25_ASAP7_75t_L': ['A', 'B', 'C', 'D', 'Y'], 'NAND4xp75_ASAP7_75t_L': ['A', 'B', 'C', 'D', 'Y'], 'NAND5xp2_ASAP7_75t_L': ['A', 'B', 'C', 'D', 'E', 'Y'], 'NOR2x1_ASAP7_75t_L': ['A', 'B', 'Y'], 'NOR2x1p5_ASAP7_75t_L': ['A', 'B', 'Y'], 'NOR2x2_ASAP7_75t_L': ['A', 'B', 'Y'], 'NOR2xp33_ASAP7_75t_L': ['A', 'B', 'Y'], 'NOR2xp67_ASAP7_75t_L': ['A', 'B', 'Y'], 'NOR3x1_ASAP7_75t_L': ['A', 'B', 'C', 'Y'], 'NOR3x2_ASAP7_75t_L': ['A', 'B', 'C', 'Y'], 'NOR3xp33_ASAP7_75t_L': ['A', 'B', 'C', 'Y'], 'NOR4xp25_ASAP7_75t_L': ['A', 'B', 'C', 'D', 'Y'], 'NOR4xp75_ASAP7_75t_L': ['A', 'B', 'C', 'D', 'Y'], 'NOR5xp2_ASAP7_75t_L': ['A', 'B', 'C', 'D', 'E', 'Y'], 'OR2x2_ASAP7_75t_L': ['A', 'B', 'Y'], 'OR2x4_ASAP7_75t_L': ['A', 'B', 'Y'], 'OR2x6_ASAP7_75t_L': ['A', 'B', 'Y'], 'OR3x1_ASAP7_75t_L': ['A', 'B', 'C', 'Y'], 'OR3x2_ASAP7_75t_L': ['A', 'B', 'C', 'Y'], 'OR3x4_ASAP7_75t_L': ['A', 'B', 'C', 'Y'], 'OR4x1_ASAP7_75t_L': ['A', 'B', 'C', 'D', 'Y'], 'OR4x2_ASAP7_75t_L': ['A', 'B', 'C', 'D', 'Y'], 'OR5x1_ASAP7_75t_L': ['A', 'B', 'C', 'D', 'E', 'Y'], 'OR5x2_ASAP7_75t_L': ['A', 'B', 'C', 'D', 'E', 'Y'], 'TIEHIx1_ASAP7_75t_L': ['H'], 'TIELOx1_ASAP7_75t_L': ['L'], 'XNOR2x1_ASAP7_75t_L': ['A', 'B', 'Y'], 'XNOR2x2_ASAP7_75t_L': ['A', 'B', 'Y'], 'XNOR2xp5_ASAP7_75t_L': ['A', 'B', 'Y'], 'XOR2x1_ASAP7_75t_L': ['A', 'B', 'Y'], 'XOR2x2_ASAP7_75t_L': ['A', 'B', 'Y'], 'XOR2xp5_ASAP7_75t_L': ['A', 'B', 'Y']}\n",
      "#########cell map for SEQ###########\n",
      "{'DFFASRHQNx1_ASAP7_75t_L': ['CLK', 'D', 'RESETN', 'SETN', 'QN'], 'DFFHQNx1_ASAP7_75t_L': ['CLK', 'D', 'QN'], 'DFFHQNx2_ASAP7_75t_L': ['CLK', 'D', 'QN'], 'DFFHQNx3_ASAP7_75t_L': ['CLK', 'D', 'QN'], 'DFFHQx4_ASAP7_75t_L': ['CLK', 'D', 'Q'], 'DFFLQNx1_ASAP7_75t_L': ['CLK', 'D', 'QN'], 'DFFLQNx2_ASAP7_75t_L': ['CLK', 'D', 'QN'], 'DFFLQNx3_ASAP7_75t_L': ['CLK', 'D', 'QN'], 'DFFLQx4_ASAP7_75t_L': ['CLK', 'D', 'Q'], 'DHLx1_ASAP7_75t_L': ['CLK', 'D', 'Q'], 'DHLx2_ASAP7_75t_L': ['CLK', 'D', 'Q'], 'DHLx3_ASAP7_75t_L': ['CLK', 'D', 'Q'], 'DLLx1_ASAP7_75t_L': ['CLK', 'D', 'Q'], 'DLLx2_ASAP7_75t_L': ['CLK', 'D', 'Q'], 'DLLx3_ASAP7_75t_L': ['CLK', 'D', 'Q'], 'ICGx1_ASAP7_75t_L': ['value', '2895', '16'], 'ICGx2_ASAP7_75t_L': ['value', '3380', '96'], 'ICGx2p67DC_ASAP7_75t_L': ['value', '7240', '33'], 'ICGx3_ASAP7_75t_L': ['value', '3866', '75'], 'ICGx4DC_ASAP7_75t_L': ['value', '7888', '05'], 'ICGx4_ASAP7_75t_L': ['value', '4352', '55'], 'ICGx5_ASAP7_75t_L': ['value', '4838', '35'], 'ICGx5p33DC_ASAP7_75t_L': ['value', '8535', '78'], 'ICGx6p67DC_ASAP7_75t_L': ['value', '9183', '5'], 'ICGx8DC_ASAP7_75t_L': ['value', '9831', '22'], 'SDFHx1_ASAP7_75t_L': ['CLK', 'D', 'SE', 'SI', 'QN'], 'SDFHx2_ASAP7_75t_L': ['CLK', 'D', 'SE', 'SI', 'QN'], 'SDFHx3_ASAP7_75t_L': ['CLK', 'D', 'SE', 'SI', 'QN'], 'SDFHx4_ASAP7_75t_L': ['CLK', 'D', 'SE', 'SI', 'QN'], 'SDFLx1_ASAP7_75t_L': ['CLK', 'D', 'SE', 'SI', 'QN'], 'SDFLx2_ASAP7_75t_L': ['CLK', 'D', 'SE', 'SI', 'QN'], 'SDFLx3_ASAP7_75t_L': ['CLK', 'D', 'SE', 'SI', 'QN'], 'SDFLx4_ASAP7_75t_L': ['CLK', 'D', 'SE', 'SI', 'QN']}\n",
      "#########cell map for INVBUF###########\n",
      "{'BUFx10_ASAP7_75t_SL': ['A', 'Y'], 'BUFx12_ASAP7_75t_SL': ['A', 'Y'], 'BUFx12f_ASAP7_75t_SL': ['A', 'Y'], 'BUFx16f_ASAP7_75t_SL': ['A', 'Y'], 'BUFx24_ASAP7_75t_SL': ['A', 'Y'], 'BUFx2_ASAP7_75t_SL': ['A', 'Y'], 'BUFx3_ASAP7_75t_SL': ['A', 'Y'], 'BUFx4_ASAP7_75t_SL': ['A', 'Y'], 'BUFx4f_ASAP7_75t_SL': ['A', 'Y'], 'BUFx5_ASAP7_75t_SL': ['A', 'Y'], 'BUFx6f_ASAP7_75t_SL': ['A', 'Y'], 'BUFx8_ASAP7_75t_SL': ['A', 'Y'], 'CKINVDCx10_ASAP7_75t_SL': ['A', 'Y'], 'CKINVDCx11_ASAP7_75t_SL': ['A', 'Y'], 'CKINVDCx12_ASAP7_75t_SL': ['A', 'Y'], 'CKINVDCx14_ASAP7_75t_SL': ['A', 'Y'], 'CKINVDCx16_ASAP7_75t_SL': ['A', 'Y'], 'CKINVDCx20_ASAP7_75t_SL': ['A', 'Y'], 'CKINVDCx5p33_ASAP7_75t_SL': ['A', 'Y'], 'CKINVDCx6p67_ASAP7_75t_SL': ['A', 'Y'], 'CKINVDCx8_ASAP7_75t_SL': ['A', 'Y'], 'CKINVDCx9p33_ASAP7_75t_SL': ['A', 'Y'], 'HB1xp67_ASAP7_75t_SL': ['A', 'Y'], 'HB2xp67_ASAP7_75t_SL': ['A', 'Y'], 'HB3xp67_ASAP7_75t_SL': ['A', 'Y'], 'HB4xp67_ASAP7_75t_SL': ['A', 'Y'], 'INVx11_ASAP7_75t_SL': ['A', 'Y'], 'INVx13_ASAP7_75t_SL': ['A', 'Y'], 'INVx1_ASAP7_75t_SL': ['A', 'Y'], 'INVx2_ASAP7_75t_SL': ['A', 'Y'], 'INVx3_ASAP7_75t_SL': ['A', 'Y'], 'INVx4_ASAP7_75t_SL': ['A', 'Y'], 'INVx5_ASAP7_75t_SL': ['A', 'Y'], 'INVx6_ASAP7_75t_SL': ['A', 'Y'], 'INVx8_ASAP7_75t_SL': ['A', 'Y'], 'INVxp33_ASAP7_75t_SL': ['A', 'Y'], 'INVxp67_ASAP7_75t_SL': ['A', 'Y']}\n"
     ]
    }
   ],
   "source": [
    "print(\"#########cell map for AO###########\")\n",
    "cell_mapping(\"asap7sc7p5t_AO_LVT_TT_nldm_211120.lib\",cell_map_AO,12)\n",
    "print(\"#########cell map for OA###########\")\n",
    "cell_mapping(\"asap7sc7p5t_OA_LVT_TT_nldm_211120 (1).lib\",cell_map_OA,12)\n",
    "print(\"#########cell map for SIMPLE###########\")\n",
    "cell_mapping(\"asap7sc7p5t_SIMPLE_LVT_TT_nldm_211120.lib\",cell_map_SIM,14)\n",
    "print(\"#########cell map for SEQ###########\")\n",
    "cell_mapping(\"asap7sc7p5t_SEQ_LVT_TT_nldm_220123.lib\",cell_map_SEQ,12)\n",
    "print(\"#########cell map for INVBUF###########\")\n",
    "cell_mapping(\"asap7sc7p5t_INVBUF_SLVT_TT_nldm_220122.lib\",cell_map_INVBUF,14)\n",
    "\n",
    "keylistAO=list(cell_map_AO.keys())\n",
    "keylistOA=list(cell_map_OA.keys())\n",
    "keylistSIM=list(cell_map_SIM.keys())\n",
    "keylistSEQ=list(cell_map_SEQ.keys())\n",
    "keylistINVBUF=list(cell_map_INVBUF.keys())\n",
    "\n",
    "finalkeylist=keylistAO+keylistOA+keylistSIM+keylistSEQ+keylistINVBUF\n",
    "#print(finalkeylist)"
   ]
  },
  {
   "cell_type": "code",
   "execution_count": 3,
   "id": "5819004e",
   "metadata": {},
   "outputs": [],
   "source": [
    "def get_characters_until_x(string):\n",
    "    i = string.find(\"x\")\n",
    "    return string[:i]"
   ]
  },
  {
   "cell_type": "code",
   "execution_count": 4,
   "id": "3962d1ca",
   "metadata": {},
   "outputs": [],
   "source": [
    "dictlist = [cell_map_AO, cell_map_OA, cell_map_SIM, cell_map_SEQ, cell_map_INVBUF]\n",
    "def getAbvlist(abvlist:list,dictlist:list):\n",
    "    for maps in dictlist:\n",
    "        keylist=list(maps.keys())\n",
    "        for key in keylist:\n",
    "            abv=get_characters_until_x(key)\n",
    "            if abv in abvlist:\n",
    "                continue\n",
    "            abvlist.append(abv)"
   ]
  },
  {
   "cell_type": "code",
   "execution_count": 5,
   "id": "a8aae0bf",
   "metadata": {},
   "outputs": [
    {
     "name": "stdout",
     "output_type": "stream",
     "text": [
      "['A2O1A1I', 'A2O1A1O1I', 'AO211', 'AO21', 'AO221', 'AO222', 'AO22', 'AO31', 'AO322', 'AO32', 'AO331', 'AO332', 'AO333', 'AO33', 'AOI211', 'AOI21', 'AOI221', 'AOI222', 'AOI22', 'AOI311', 'AOI31', 'AOI321', 'AOI322', 'AOI32', 'AOI331', 'AOI332', 'AOI333', 'AOI33', 'O2A1O1I', 'OA211', 'OA21', 'OA221', 'OA222', 'OA22', 'OA31', 'OA331', 'OA332', 'OA333', 'OA33', 'OAI211', 'OAI21', 'OAI221', 'OAI222', 'OAI22', 'OAI311', 'OAI31', 'OAI321', 'OAI322', 'OAI32', 'OAI331', 'OAI332', 'OAI333', 'OAI33', 'AND2', 'AND3', 'AND4', 'AND5', 'FA', 'HA', 'MAJI', 'MAJ', 'NAND2', 'NAND3', 'NAND4', 'NAND5', 'NOR2', 'NOR3', 'NOR4', 'NOR5', 'OR2', 'OR3', 'OR4', 'OR5', 'TIEHI', 'TIELO', 'XNOR2', 'XOR2', 'DFFASRHQN', 'DFFHQN', 'DFFHQ', 'DFFLQN', 'DFFLQ', 'DHL', 'DLL', 'ICG', 'SDFH', 'SDFL', 'BUF', 'CKINVDC', 'HB1', 'HB2', 'HB3', 'HB4', 'INV']\n"
     ]
    }
   ],
   "source": [
    "abvlist=[]\n",
    "getAbvlist(abvlist,dictlist)\n",
    "print(abvlist)"
   ]
  },
  {
   "cell_type": "code",
   "execution_count": 6,
   "id": "9290fe80",
   "metadata": {},
   "outputs": [
    {
     "name": "stdout",
     "output_type": "stream",
     "text": [
      "{'GEN_MAJORITYAOI22_D2', 'GEN_NOR4_D2', 'GEN_NAND3_D2', 'GEN_NAND3_D4', 'GEN_OAI21_D1', 'GEN_INV_D2', 'GEN_FA_D2', 'GEN_OR3_D4', 'GEN_RAMS_SP_WENABLE22_64x88', 'GEN_AO222_D2', 'GEN_MAJORITYOAI22_D4', 'GEN_OAI221_D2', 'GEN_OA31_D2', 'GEN_AOI21_D1', 'GEN_DFCLR_D1', 'GEN_RAMS_SP_WENABLE32_512x128', 'GEN_AOI221_D2', 'GEN_OAI31_D4', 'GEN_AO211_D1', 'GEN_AND4_D2', 'GEN_OA22_D4', 'GEN_RAMS_SP_WENABLE21_64x84', 'GEN_OAI221_D1', 'GEN_OR3_D8', 'GEN_XOR2_D4', 'GEN_OR2_D8', 'GEN_AO222_D4', 'GEN_NOR2_D4', 'GEN_AO211_D4', 'GEN_AOI222_D1', 'GEN_AOI33_D1', 'GEN_AO21_D4', 'GEN_MUX4N_D2', 'GEN_NAND2_D8', 'GEN_NOR4_D1', 'GEN_OAI32_D2', 'GEN_AO21_D2', 'GEN_OAI31_D1', 'GEN_NAND4_D2', 'GEN_MAJORITYAOI22_D4', 'GEN_BUF_D1', 'GEN_OA21_D4', 'GEN_NOR2_D1', 'GEN_XNOR2_D4', 'GEN_RAMS_SP_WENABLE8_512x256', 'GEN_AND2_D2', 'GEN_OA222_D1', 'GEN_AO21_D1', 'GEN_AND2_D1', 'GEN_NOR3_D2', 'GEN_BUF_D4', 'GEN_OA33_D1', 'GEN_INV_D1', 'GEN_OR4_D1', 'GEN_OAI222_D2', 'GEN_AND3_D1', 'GEN_AOI211_D4', 'GEN_OAI22_D4', 'GEN_OA32_D1', 'GEN_MAJORITYAOI22_D1', 'GEN_OR3_D2', 'GEN_NAND4_D4', 'GEN_AOI221_D4', 'GEN_AO31_D2', 'GEN_OA31_D1', 'GEN_AOI21_D4', 'GEN_AOI31_D1', 'GEN_INV_D4', 'GEN_BUF_D2', 'GEN_NAND4_D1', 'GEN_OAI222_D4', 'GEN_AND2_D8', 'GEN_AO33_D1', 'GEN_MAJORITYOAI22_D2', 'GEN_DF_D8', 'GEN_NAND3_D1', 'GEN_OAI32_D4', 'GEN_AO22_D2', 'GEN_BUF_D8', 'GEN_AO221_D1', 'GEN_DF_D4', 'GEN_MAJORITYOAI22_D1', 'GEN_AO32_D1', 'GEN_FA_D1', 'GEN_NOR3_D4', 'GEN_INV_D8', 'GEN_XNOR3_D4', 'GEN_MUX2_D1', 'GEN_AOI222_D4', 'GEN_XNOR3_D1', 'GEN_NAND2_D4', 'GEN_XNOR2_D2', 'GEN_XOR3_D1', 'GEN_NAND2_D1', 'GEN_OAI32_D1', 'GEN_OR3_D1', 'GEN_NAND4_D8', 'GEN_OAI21_D2', 'GEN_AO222_D1', 'GEN_XOR2_D2', 'GEN_MUX4_D1', 'GEN_MUX2N_D1', 'GEN_AOI31_D4', 'GEN_DF_D1', 'GEN_XOR2_D8', 'GEN_OR2_D2', 'GEN_OA211_D1', 'GEN_AO32_D2', 'GEN_OR4_D2', 'GEN_AOI211_D2', 'GEN_NAND3_D8', 'GEN_OAI22_D1', 'GEN_XNOR2_D1', 'GEN_AO22_D1', 'GEN_XOR2_D1', 'GEN_HA_D1', 'GEN_OAI33_D1', 'GEN_OAI211_D1', 'GEN_OAI22_D2', 'GEN_AOI211_D1', 'GEN_AOI31_D2', 'GEN_AOI32_D1', 'GEN_MAJORITYAOI222_D1', 'GEN_AO31_D1', 'GEN_NOR3_D1', 'GEN_NOR2_D8', 'GEN_DF_D2', 'GEN_DFCLR_D2', 'GEN_OA21_D1', 'GEN_OAI222_D1', 'GEN_NOR4_D4', 'GEN_OR2_D1', 'GEN_OA221_D1', 'GEN_AO211_D2', 'GEN_LATCH_D1', 'GEN_OAI221_D4', 'GEN_AOI221_D1', 'GEN_OAI211_D2', 'GEN_OA22_D1', 'GEN_AO22_D4', 'GEN_NAND2_D2', 'GEN_AOI22_D2', 'GEN_AND3_D2', 'GEN_AOI32_D4', 'GEN_OR2_D4', 'GEN_AOI222_D2', 'GEN_AOI21_D2', 'GEN_OAI211_D4', 'GEN_AND4_D1', 'GEN_AND2_D4', 'GEN_AO31_D4', 'GEN_OAI31_D2', 'GEN_AND3_D4', 'GEN_OA21_D2', 'GEN_MAJORITYAOI222_D2', 'GEN_NOR2_D2', 'GEN_OAI21_D4'}\n"
     ]
    }
   ],
   "source": [
    "genset=set() # all unique gen cells\n",
    "genkeyset=set() \n",
    "try:\n",
    "    with open(\"ExampleRocketSystem_GEN.gv 2\", \"r\") as filereader:\n",
    "        line = filereader.readline()\n",
    "        while line:\n",
    "            if line.strip()[:4]==\"GEN_\":\n",
    "                x=line.strip().split()[0]\n",
    "                genset.add(x)\n",
    "            line = filereader.readline()\n",
    "except FileNotFoundError:\n",
    "    print(\"File not found.\")\n",
    "except IOError:\n",
    "    print(\"Error reading the file.\")\n",
    "#genset=set(genlist)\n",
    "#genkeyset=set(genkeylist)\n",
    "print(genset)\n",
    "#print(genkeyset)"
   ]
  },
  {
   "cell_type": "code",
   "execution_count": 7,
   "id": "04295b54",
   "metadata": {},
   "outputs": [
    {
     "name": "stdout",
     "output_type": "stream",
     "text": [
      "{'GEN_MAJORITYAOI22_D2': 'MAJORITYAOI22', 'GEN_NOR4_D2': 'NOR4', 'GEN_NAND3_D2': 'NAND3', 'GEN_NAND3_D4': 'NAND3', 'GEN_OAI21_D1': 'OAI21', 'GEN_INV_D2': 'INV', 'GEN_FA_D2': 'FA', 'GEN_OR3_D4': 'OR3', 'GEN_RAMS_SP_WENABLE22_64x88': 'RAMS', 'GEN_AO222_D2': 'AO222', 'GEN_MAJORITYOAI22_D4': 'MAJORITYOAI22', 'GEN_OAI221_D2': 'OAI221', 'GEN_OA31_D2': 'OA31', 'GEN_AOI21_D1': 'AOI21', 'GEN_DFCLR_D1': 'DFCLR', 'GEN_RAMS_SP_WENABLE32_512x128': 'RAMS', 'GEN_AOI221_D2': 'AOI221', 'GEN_OAI31_D4': 'OAI31', 'GEN_AO211_D1': 'AO211', 'GEN_AND4_D2': 'AND4', 'GEN_OA22_D4': 'OA22', 'GEN_RAMS_SP_WENABLE21_64x84': 'RAMS', 'GEN_OAI221_D1': 'OAI221', 'GEN_OR3_D8': 'OR3', 'GEN_XOR2_D4': 'XOR2', 'GEN_OR2_D8': 'OR2', 'GEN_AO222_D4': 'AO222', 'GEN_NOR2_D4': 'NOR2', 'GEN_AO211_D4': 'AO211', 'GEN_AOI222_D1': 'AOI222', 'GEN_AOI33_D1': 'AOI33', 'GEN_AO21_D4': 'AO21', 'GEN_MUX4N_D2': 'MUX4N', 'GEN_NAND2_D8': 'NAND2', 'GEN_NOR4_D1': 'NOR4', 'GEN_OAI32_D2': 'OAI32', 'GEN_AO21_D2': 'AO21', 'GEN_OAI31_D1': 'OAI31', 'GEN_NAND4_D2': 'NAND4', 'GEN_MAJORITYAOI22_D4': 'MAJORITYAOI22', 'GEN_BUF_D1': 'BUF', 'GEN_OA21_D4': 'OA21', 'GEN_NOR2_D1': 'NOR2', 'GEN_XNOR2_D4': 'XNOR2', 'GEN_RAMS_SP_WENABLE8_512x256': 'RAMS', 'GEN_AND2_D2': 'AND2', 'GEN_OA222_D1': 'OA222', 'GEN_AO21_D1': 'AO21', 'GEN_AND2_D1': 'AND2', 'GEN_NOR3_D2': 'NOR3', 'GEN_BUF_D4': 'BUF', 'GEN_OA33_D1': 'OA33', 'GEN_INV_D1': 'INV', 'GEN_OR4_D1': 'OR4', 'GEN_OAI222_D2': 'OAI222', 'GEN_AND3_D1': 'AND3', 'GEN_AOI211_D4': 'AOI211', 'GEN_OAI22_D4': 'OAI22', 'GEN_OA32_D1': 'OA32', 'GEN_MAJORITYAOI22_D1': 'MAJORITYAOI22', 'GEN_OR3_D2': 'OR3', 'GEN_NAND4_D4': 'NAND4', 'GEN_AOI221_D4': 'AOI221', 'GEN_AO31_D2': 'AO31', 'GEN_OA31_D1': 'OA31', 'GEN_AOI21_D4': 'AOI21', 'GEN_AOI31_D1': 'AOI31', 'GEN_INV_D4': 'INV', 'GEN_BUF_D2': 'BUF', 'GEN_NAND4_D1': 'NAND4', 'GEN_OAI222_D4': 'OAI222', 'GEN_AND2_D8': 'AND2', 'GEN_AO33_D1': 'AO33', 'GEN_MAJORITYOAI22_D2': 'MAJORITYOAI22', 'GEN_DF_D8': 'DF', 'GEN_NAND3_D1': 'NAND3', 'GEN_OAI32_D4': 'OAI32', 'GEN_AO22_D2': 'AO22', 'GEN_BUF_D8': 'BUF', 'GEN_AO221_D1': 'AO221', 'GEN_DF_D4': 'DF', 'GEN_MAJORITYOAI22_D1': 'MAJORITYOAI22', 'GEN_AO32_D1': 'AO32', 'GEN_FA_D1': 'FA', 'GEN_NOR3_D4': 'NOR3', 'GEN_INV_D8': 'INV', 'GEN_XNOR3_D4': 'XNOR3', 'GEN_MUX2_D1': 'MUX2', 'GEN_AOI222_D4': 'AOI222', 'GEN_XNOR3_D1': 'XNOR3', 'GEN_NAND2_D4': 'NAND2', 'GEN_XNOR2_D2': 'XNOR2', 'GEN_XOR3_D1': 'XOR3', 'GEN_NAND2_D1': 'NAND2', 'GEN_OAI32_D1': 'OAI32', 'GEN_OR3_D1': 'OR3', 'GEN_NAND4_D8': 'NAND4', 'GEN_OAI21_D2': 'OAI21', 'GEN_AO222_D1': 'AO222', 'GEN_XOR2_D2': 'XOR2', 'GEN_MUX4_D1': 'MUX4', 'GEN_MUX2N_D1': 'MUX2N', 'GEN_AOI31_D4': 'AOI31', 'GEN_DF_D1': 'DF', 'GEN_XOR2_D8': 'XOR2', 'GEN_OR2_D2': 'OR2', 'GEN_OA211_D1': 'OA211', 'GEN_AO32_D2': 'AO32', 'GEN_OR4_D2': 'OR4', 'GEN_AOI211_D2': 'AOI211', 'GEN_NAND3_D8': 'NAND3', 'GEN_OAI22_D1': 'OAI22', 'GEN_XNOR2_D1': 'XNOR2', 'GEN_AO22_D1': 'AO22', 'GEN_XOR2_D1': 'XOR2', 'GEN_HA_D1': 'HA', 'GEN_OAI33_D1': 'OAI33', 'GEN_OAI211_D1': 'OAI211', 'GEN_OAI22_D2': 'OAI22', 'GEN_AOI211_D1': 'AOI211', 'GEN_AOI31_D2': 'AOI31', 'GEN_AOI32_D1': 'AOI32', 'GEN_MAJORITYAOI222_D1': 'MAJORITYAOI222', 'GEN_AO31_D1': 'AO31', 'GEN_NOR3_D1': 'NOR3', 'GEN_NOR2_D8': 'NOR2', 'GEN_DF_D2': 'DF', 'GEN_DFCLR_D2': 'DFCLR', 'GEN_OA21_D1': 'OA21', 'GEN_OAI222_D1': 'OAI222', 'GEN_NOR4_D4': 'NOR4', 'GEN_OR2_D1': 'OR2', 'GEN_OA221_D1': 'OA221', 'GEN_AO211_D2': 'AO211', 'GEN_LATCH_D1': 'LATCH', 'GEN_OAI221_D4': 'OAI221', 'GEN_AOI221_D1': 'AOI221', 'GEN_OAI211_D2': 'OAI211', 'GEN_OA22_D1': 'OA22', 'GEN_AO22_D4': 'AO22', 'GEN_NAND2_D2': 'NAND2', 'GEN_AOI22_D2': 'AOI22', 'GEN_AND3_D2': 'AND3', 'GEN_AOI32_D4': 'AOI32', 'GEN_OR2_D4': 'OR2', 'GEN_AOI222_D2': 'AOI222', 'GEN_AOI21_D2': 'AOI21', 'GEN_OAI211_D4': 'OAI211', 'GEN_AND4_D1': 'AND4', 'GEN_AND2_D4': 'AND2', 'GEN_AO31_D4': 'AO31', 'GEN_OAI31_D2': 'OAI31', 'GEN_AND3_D4': 'AND3', 'GEN_OA21_D2': 'OA21', 'GEN_MAJORITYAOI222_D2': 'MAJORITYAOI222', 'GEN_NOR2_D2': 'NOR2', 'GEN_OAI21_D4': 'OAI21'}\n",
      "157\n"
     ]
    }
   ],
   "source": [
    "gensetmap={} #gen cell to gen cell abbreveation mapping\n",
    "for x in genset:\n",
    "    gensetmap[x]=re.search(r'(?<=_)[^_]+', x).group()\n",
    "print(gensetmap)\n",
    "print(len(gensetmap))"
   ]
  },
  {
   "cell_type": "code",
   "execution_count": 8,
   "id": "5f4f61bd",
   "metadata": {
    "scrolled": false
   },
   "outputs": [
    {
     "name": "stdout",
     "output_type": "stream",
     "text": [
      "{'GEN_MAJORITYAOI22_D2': 'AOI22xp5_ASAP7_75t_L', 'GEN_NOR4_D2': 'NOR4xp75_ASAP7_75t_L', 'GEN_NAND3_D2': 'NAND3xp33_ASAP7_75t_L', 'GEN_NAND3_D4': 'NAND3xp33_ASAP7_75t_L', 'GEN_OAI21_D1': 'OAI21xp5_ASAP7_75t_L', 'GEN_INV_D2': 'INVxp67_ASAP7_75t_SL', 'GEN_FA_D2': 'FAx1_ASAP7_75t_L', 'GEN_OR3_D4': 'OR3x4_ASAP7_75t_L', 'GEN_AO222_D2': 'AO222x2_ASAP7_75t_L', 'GEN_MAJORITYOAI22_D4': 'OAI22xp5_ASAP7_75t_L', 'GEN_OAI221_D2': 'OAI221xp5_ASAP7_75t_L', 'GEN_OA31_D2': 'OA31x2_ASAP7_75t_L', 'GEN_AOI21_D1': 'AOI21xp5_ASAP7_75t_L', 'GEN_AOI221_D2': 'AOI221xp5_ASAP7_75t_L', 'GEN_OAI31_D4': 'OAI31xp67_ASAP7_75t_L', 'GEN_AO211_D1': 'AO211x2_ASAP7_75t_L', 'GEN_AND4_D2': 'AND4x2_ASAP7_75t_L', 'GEN_OA22_D4': 'OA22x2_ASAP7_75t_L', 'GEN_OAI221_D1': 'OAI221xp5_ASAP7_75t_L', 'GEN_OR3_D8': 'OR3x4_ASAP7_75t_L', 'GEN_XOR2_D4': 'XOR2xp5_ASAP7_75t_L', 'GEN_OR2_D8': 'OR2x6_ASAP7_75t_L', 'GEN_AO222_D4': 'AO222x2_ASAP7_75t_L', 'GEN_NOR2_D4': 'NOR2xp67_ASAP7_75t_L', 'GEN_AO211_D4': 'AO211x2_ASAP7_75t_L', 'GEN_AOI222_D1': 'AOI222xp33_ASAP7_75t_L', 'GEN_AOI33_D1': 'AOI33xp33_ASAP7_75t_L', 'GEN_AO21_D4': 'AO21x2_ASAP7_75t_L', 'GEN_NAND2_D8': 'NAND2xp67_ASAP7_75t_L', 'GEN_NOR4_D1': 'NOR4xp75_ASAP7_75t_L', 'GEN_OAI32_D2': 'OAI32xp33_ASAP7_75t_L', 'GEN_AO21_D2': 'AO21x2_ASAP7_75t_L', 'GEN_OAI31_D1': 'OAI31xp67_ASAP7_75t_L', 'GEN_NAND4_D2': 'NAND4xp75_ASAP7_75t_L', 'GEN_MAJORITYAOI22_D4': 'AOI22xp5_ASAP7_75t_L', 'GEN_BUF_D1': 'BUFx8_ASAP7_75t_SL', 'GEN_OA21_D4': 'OA21x2_ASAP7_75t_L', 'GEN_NOR2_D1': 'NOR2xp67_ASAP7_75t_L', 'GEN_XNOR2_D4': 'XNOR2xp5_ASAP7_75t_L', 'GEN_AND2_D2': 'AND2x6_ASAP7_75t_L', 'GEN_OA222_D1': 'OA222x2_ASAP7_75t_L', 'GEN_AO21_D1': 'AO21x2_ASAP7_75t_L', 'GEN_AND2_D1': 'AND2x6_ASAP7_75t_L', 'GEN_NOR3_D2': 'NOR3xp33_ASAP7_75t_L', 'GEN_BUF_D4': 'BUFx8_ASAP7_75t_SL', 'GEN_OA33_D1': 'OA33x2_ASAP7_75t_L', 'GEN_INV_D1': 'INVxp67_ASAP7_75t_SL', 'GEN_OR4_D1': 'OR4x2_ASAP7_75t_L', 'GEN_OAI222_D2': 'OAI222xp33_ASAP7_75t_L', 'GEN_AND3_D1': 'AND3x4_ASAP7_75t_L', 'GEN_AOI211_D4': 'AOI211xp5_ASAP7_75t_L', 'GEN_OAI22_D4': 'OAI22xp5_ASAP7_75t_L', 'GEN_MAJORITYAOI22_D1': 'AOI22xp5_ASAP7_75t_L', 'GEN_OR3_D2': 'OR3x4_ASAP7_75t_L', 'GEN_NAND4_D4': 'NAND4xp75_ASAP7_75t_L', 'GEN_AOI221_D4': 'AOI221xp5_ASAP7_75t_L', 'GEN_AO31_D2': 'AO31x2_ASAP7_75t_L', 'GEN_OA31_D1': 'OA31x2_ASAP7_75t_L', 'GEN_AOI21_D4': 'AOI21xp5_ASAP7_75t_L', 'GEN_AOI31_D1': 'AOI31xp67_ASAP7_75t_L', 'GEN_INV_D4': 'INVxp67_ASAP7_75t_SL', 'GEN_BUF_D2': 'BUFx8_ASAP7_75t_SL', 'GEN_NAND4_D1': 'NAND4xp75_ASAP7_75t_L', 'GEN_OAI222_D4': 'OAI222xp33_ASAP7_75t_L', 'GEN_AND2_D8': 'AND2x6_ASAP7_75t_L', 'GEN_AO33_D1': 'AO33x2_ASAP7_75t_L', 'GEN_MAJORITYOAI22_D2': 'OAI22xp5_ASAP7_75t_L', 'GEN_DF_D8': 'DFFLQx4_ASAP7_75t_L', 'GEN_NAND3_D1': 'NAND3xp33_ASAP7_75t_L', 'GEN_OAI32_D4': 'OAI32xp33_ASAP7_75t_L', 'GEN_AO22_D2': 'AO22x2_ASAP7_75t_L', 'GEN_BUF_D8': 'BUFx8_ASAP7_75t_SL', 'GEN_AO221_D1': 'AO221x2_ASAP7_75t_L', 'GEN_DF_D4': 'DFFLQx4_ASAP7_75t_L', 'GEN_MAJORITYOAI22_D1': 'OAI22xp5_ASAP7_75t_L', 'GEN_AO32_D1': 'AO32x2_ASAP7_75t_L', 'GEN_FA_D1': 'FAx1_ASAP7_75t_L', 'GEN_NOR3_D4': 'NOR3xp33_ASAP7_75t_L', 'GEN_INV_D8': 'INVxp67_ASAP7_75t_SL', 'GEN_AOI222_D4': 'AOI222xp33_ASAP7_75t_L', 'GEN_NAND2_D4': 'NAND2xp67_ASAP7_75t_L', 'GEN_XNOR2_D2': 'XNOR2xp5_ASAP7_75t_L', 'GEN_NAND2_D1': 'NAND2xp67_ASAP7_75t_L', 'GEN_OAI32_D1': 'OAI32xp33_ASAP7_75t_L', 'GEN_OR3_D1': 'OR3x4_ASAP7_75t_L', 'GEN_NAND4_D8': 'NAND4xp75_ASAP7_75t_L', 'GEN_OAI21_D2': 'OAI21xp5_ASAP7_75t_L', 'GEN_AO222_D1': 'AO222x2_ASAP7_75t_L', 'GEN_XOR2_D2': 'XOR2xp5_ASAP7_75t_L', 'GEN_AOI31_D4': 'AOI31xp67_ASAP7_75t_L', 'GEN_DF_D1': 'DFFLQx4_ASAP7_75t_L', 'GEN_XOR2_D8': 'XOR2xp5_ASAP7_75t_L', 'GEN_OR2_D2': 'OR2x6_ASAP7_75t_L', 'GEN_OA211_D1': 'OA211x2_ASAP7_75t_L', 'GEN_AO32_D2': 'AO32x2_ASAP7_75t_L', 'GEN_OR4_D2': 'OR4x2_ASAP7_75t_L', 'GEN_AOI211_D2': 'AOI211xp5_ASAP7_75t_L', 'GEN_NAND3_D8': 'NAND3xp33_ASAP7_75t_L', 'GEN_OAI22_D1': 'OAI22xp5_ASAP7_75t_L', 'GEN_XNOR2_D1': 'XNOR2xp5_ASAP7_75t_L', 'GEN_AO22_D1': 'AO22x2_ASAP7_75t_L', 'GEN_XOR2_D1': 'XOR2xp5_ASAP7_75t_L', 'GEN_HA_D1': 'HAxp5_ASAP7_75t_L', 'GEN_OAI33_D1': 'OAI33xp33_ASAP7_75t_L', 'GEN_OAI211_D1': 'OAI211xp5_ASAP7_75t_L', 'GEN_OAI22_D2': 'OAI22xp5_ASAP7_75t_L', 'GEN_AOI211_D1': 'AOI211xp5_ASAP7_75t_L', 'GEN_AOI31_D2': 'AOI31xp67_ASAP7_75t_L', 'GEN_AOI32_D1': 'AOI32xp33_ASAP7_75t_L', 'GEN_MAJORITYAOI222_D1': 'AOI222xp33_ASAP7_75t_L', 'GEN_AO31_D1': 'AO31x2_ASAP7_75t_L', 'GEN_NOR3_D1': 'NOR3xp33_ASAP7_75t_L', 'GEN_NOR2_D8': 'NOR2xp67_ASAP7_75t_L', 'GEN_DF_D2': 'DFFLQx4_ASAP7_75t_L', 'GEN_OA21_D1': 'OA21x2_ASAP7_75t_L', 'GEN_OAI222_D1': 'OAI222xp33_ASAP7_75t_L', 'GEN_NOR4_D4': 'NOR4xp75_ASAP7_75t_L', 'GEN_OR2_D1': 'OR2x6_ASAP7_75t_L', 'GEN_OA221_D1': 'OA221x2_ASAP7_75t_L', 'GEN_AO211_D2': 'AO211x2_ASAP7_75t_L', 'GEN_OAI221_D4': 'OAI221xp5_ASAP7_75t_L', 'GEN_AOI221_D1': 'AOI221xp5_ASAP7_75t_L', 'GEN_OAI211_D2': 'OAI211xp5_ASAP7_75t_L', 'GEN_OA22_D1': 'OA22x2_ASAP7_75t_L', 'GEN_AO22_D4': 'AO22x2_ASAP7_75t_L', 'GEN_NAND2_D2': 'NAND2xp67_ASAP7_75t_L', 'GEN_AOI22_D2': 'AOI22xp5_ASAP7_75t_L', 'GEN_AND3_D2': 'AND3x4_ASAP7_75t_L', 'GEN_AOI32_D4': 'AOI32xp33_ASAP7_75t_L', 'GEN_OR2_D4': 'OR2x6_ASAP7_75t_L', 'GEN_AOI222_D2': 'AOI222xp33_ASAP7_75t_L', 'GEN_AOI21_D2': 'AOI21xp5_ASAP7_75t_L', 'GEN_OAI211_D4': 'OAI211xp5_ASAP7_75t_L', 'GEN_AND4_D1': 'AND4x2_ASAP7_75t_L', 'GEN_AND2_D4': 'AND2x6_ASAP7_75t_L', 'GEN_AO31_D4': 'AO31x2_ASAP7_75t_L', 'GEN_OAI31_D2': 'OAI31xp67_ASAP7_75t_L', 'GEN_AND3_D4': 'AND3x4_ASAP7_75t_L', 'GEN_OA21_D2': 'OA21x2_ASAP7_75t_L', 'GEN_MAJORITYAOI222_D2': 'AOI222xp33_ASAP7_75t_L', 'GEN_NOR2_D2': 'NOR2xp67_ASAP7_75t_L', 'GEN_OAI21_D4': 'OAI21xp5_ASAP7_75t_L'}\n",
      "#################################\n",
      "#################################\n",
      "142\n"
     ]
    }
   ],
   "source": [
    "map_dictionary={} #contain gen cell to asap cell maps\n",
    "unused_keys=[] #contain gen cells that remained unmapped\n",
    "\n",
    "#finalkeylist: all unique asap cells\n",
    "#gensetmap: gen cell to gen cell abbreveation mapping\n",
    "for x in list(gensetmap.keys()):\n",
    "    for y in finalkeylist:\n",
    "        if gensetmap[x].find(\"MAJORITY\")>=0:\n",
    "            gensetmap[x]=gensetmap[x].replace(\"MAJORITY\",\"\")\n",
    "        if y[:len(gensetmap[x])] == gensetmap[x]: \n",
    "            map_dictionary[x]= y\n",
    "#map_dictionary[\"GEN_MAJORITYOAI22_D1\"]=\"OAI22x1_ASAP7_75t_L\"\n",
    "#map_dictionary[\"GEN_MAJORITYAOI22_D1\"]=\"AOI22x1_ASAP7_75t_L\"\n",
    "#map_dictionary[\"GEN_MAJORITYOAI22_D2\"]=\"OAI22x1_ASAP7_75t_L\"\n",
    "#map_dictionary[\"GEN_MAJORITYAOI22_D2\"]=\"AOI22x1_ASAP7_75t_L\"\n",
    "#map_dictionary[\"GEN_OA32_D1\"]=\"AO32x1_ASAP7_75t_L\"\n",
    "print(map_dictionary)\n",
    "print(\"#################################\")\n",
    "print(\"#################################\")\n",
    "print(len(map_dictionary))"
   ]
  },
  {
   "cell_type": "code",
   "execution_count": 9,
   "id": "b17dbf7c",
   "metadata": {},
   "outputs": [],
   "source": [
    "def replace_with_asap(line:str,map_dictionary:dict):\n",
    "    dummyline=line.strip()\n",
    "    if dummyline[:4]==\"GEN_\":\n",
    "        dummylinelist=dummyline.split()\n",
    "        if dummylinelist[0] in list(map_dictionary.keys()):\n",
    "            asapcell=map_dictionary[dummylinelist[0]]\n",
    "            line=line.replace(dummylinelist[0],asapcell)\n",
    "    return line\n",
    "#def Filterfunction(line):\n",
    " #   line=line.replace(\".d(\",\".A(\")\n",
    "  #  line=line.replace(\".cp(\",\".B(\")\n",
    "   # line=line.replace(\".cdn(\",\".C(\")\n",
    "    #line=line.replace(\".q(\",\".Y(\")\n",
    "    #return line"
   ]
  },
  {
   "cell_type": "code",
   "execution_count": 10,
   "id": "c7db33e6",
   "metadata": {},
   "outputs": [],
   "source": [
    "with open(\"myfile3.txt\",\"w\") as writer:\n",
    "    with open(\"ExampleRocketSystem_GEN.gv 2\",\"r\") as reader:\n",
    "        lines=reader.readline()\n",
    "        while lines:\n",
    "            checkpointline= replace_with_asap(lines,map_dictionary)\n",
    "            if checkpointline.find(\"GEN_DFCLR_\")>=0:\n",
    "                dummyline=checkpointline.strip()\n",
    "                dummylinelist=checkpointline.split()\n",
    "                checkpointline=checkpointline.replace(dummylinelist[0],\"AND3x1_ASAP7_75t_L\")\n",
    "                writer.writelines(checkpointline)\n",
    "                next_line=reader.readline()\n",
    "                while next_line.find(\";\")<0:\n",
    "                    writer.writelines(next_line)\n",
    "                    next_line=reader.readline()\n",
    "            else:\n",
    "                writer.writelines(checkpointline)\n",
    "            lines=reader.readline()\n",
    "        writer.close()"
   ]
  },
  {
   "cell_type": "code",
   "execution_count": null,
   "id": "71bb461c",
   "metadata": {},
   "outputs": [],
   "source": [
    "#AOI22xp5_ASAP7_75t_L: MAJ\n"
   ]
  }
 ],
 "metadata": {
  "kernelspec": {
   "display_name": "Python 3 (ipykernel)",
   "language": "python",
   "name": "python3"
  },
  "language_info": {
   "codemirror_mode": {
    "name": "ipython",
    "version": 3
   },
   "file_extension": ".py",
   "mimetype": "text/x-python",
   "name": "python",
   "nbconvert_exporter": "python",
   "pygments_lexer": "ipython3",
   "version": "3.9.12"
  }
 },
 "nbformat": 4,
 "nbformat_minor": 5
}
